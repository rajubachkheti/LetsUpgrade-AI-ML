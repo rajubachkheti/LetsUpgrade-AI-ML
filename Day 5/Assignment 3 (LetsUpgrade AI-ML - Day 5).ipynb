{
 "cells": [
  {
   "cell_type": "markdown",
   "metadata": {},
   "source": [
    "# 1. Program to find the first 20 non-even prime natural numbers."
   ]
  },
  {
   "cell_type": "code",
   "execution_count": 12,
   "metadata": {},
   "outputs": [
    {
     "name": "stdout",
     "output_type": "stream",
     "text": [
      "2\n",
      "3\n",
      "5\n",
      "7\n",
      "11\n",
      "13\n",
      "17\n",
      "19\n"
     ]
    }
   ],
   "source": [
    "r=20\n",
    "for a in range(2, r+1):\n",
    "    k=0\n",
    "    for i in range(2,a//2+1):\n",
    "        if (a%i==0):\n",
    "            k=k+1\n",
    "    if (k<=0):\n",
    "        print(a)"
   ]
  },
  {
   "cell_type": "markdown",
   "metadata": {},
   "source": [
    "# 2. Program to implement 15 functions of string."
   ]
  },
  {
   "cell_type": "code",
   "execution_count": 2,
   "metadata": {},
   "outputs": [
    {
     "name": "stdout",
     "output_type": "stream",
     "text": [
      "Taj mahal is 388 years old\n",
      "taj mahal is 388 years old\n",
      "Taj Mahal is 388 years old\n",
      "1\n",
      "b'Taj Mahal is 388 years old'\n",
      "False\n",
      "Taj Mahal is 388 years old\n",
      "1\n",
      "4\n",
      "False\n",
      "False\n",
      "False\n",
      "False\n",
      "False\n",
      "taj mahal is 388 years old\n"
     ]
    }
   ],
   "source": [
    "a=\"Taj Mahal is 388 years old\"\n",
    "x=a.capitalize()\n",
    "print(x)\n",
    "b=a.casefold()\n",
    "print(b)\n",
    "c=a.center(15)\n",
    "print(c)\n",
    "d=a.count(\"r\")\n",
    "print(d)\n",
    "e=a.encode()\n",
    "print(e)\n",
    "f=a.endswith(\"i\")\n",
    "print(f)\n",
    "g=a.expandtabs(2)\n",
    "print(g)\n",
    "h=a.find(\"a\")\n",
    "print(h)\n",
    "i=a.index(\"Mahal\")\n",
    "print(i)\n",
    "j=a.isalnum()\n",
    "print(j)\n",
    "k=a.isalpha()\n",
    "print(k)\n",
    "l=a.isdecimal()\n",
    "print(l)\n",
    "m=a.isdigit()\n",
    "print(m)\n",
    "n=a.isidentifier()\n",
    "print(n)\n",
    "o=a.lower()\n",
    "print(o)"
   ]
  },
  {
   "cell_type": "markdown",
   "metadata": {},
   "source": [
    "# 3. Program to check if the given string is a Palindrome or Anagram or None of them."
   ]
  },
  {
   "cell_type": "code",
   "execution_count": 4,
   "metadata": {},
   "outputs": [
    {
     "name": "stdout",
     "output_type": "stream",
     "text": [
      "Enter a string: nitin\n",
      "The String is a Palindrome\n",
      "Enter String 1:raju\n",
      "Enter String 2:ujra\n",
      "Strings are anagram of each other\n"
     ]
    }
   ],
   "source": [
    "String=input(\"Enter a string: \")\n",
    "if(String==String[::-1]):\n",
    "    print(\"The String is a Palindrome\")\n",
    "else:\n",
    "    print(\"Not a palidrome\")\n",
    "\n",
    "    \n",
    "a=input(\"Enter String 1:\")\n",
    "b=input(\"Enter String 2:\")\n",
    "count=0\n",
    "for i in a:\n",
    "    for j in b:\n",
    "        if i==j:\n",
    "            count=count+1\n",
    "if count==len(a):\n",
    "    print(\"Strings are anagram of each other\")\n",
    "else:\n",
    "    print(\"Strings are not anagram\")"
   ]
  },
  {
   "cell_type": "markdown",
   "metadata": {},
   "source": [
    "# 4. Write a Python's user defined function that removes all the additional characters from the string and converts it finally to lower case"
   ]
  },
  {
   "cell_type": "code",
   "execution_count": 5,
   "metadata": {},
   "outputs": [
    {
     "name": "stdout",
     "output_type": "stream",
     "text": [
      "String is : Mr. Raju Bachkheti is a trainee @AI-ML Program\n",
      "After removing all special characters from string :\n",
      "Resultant string is : mrrajubachkhetiisatraineeaimlprogram\n"
     ]
    }
   ],
   "source": [
    "def replacechar(y):\n",
    "    invalidlist=[\"!\", \"@\", \"#\", \"$\",\"%\", \"^\", \"&\", \"*\", \"(\", \")\", \"_\", \"+\", \" \", \".\", \"-\"]\n",
    "    for i in invalidlist:\n",
    "        y=y.replace(i, '')\n",
    "        y=y.lower()\n",
    "    print(\"After removing all special characters from string :\")\n",
    "    print(\"Resultant string is :\", y)\n",
    "string5='Mr. Raju Bachkheti is a trainee @AI-ML Program'\n",
    "print(\"String is :\", string5)\n",
    "replacechar(string5)\n"
   ]
  }
 ],
 "metadata": {
  "kernelspec": {
   "display_name": "Python 3",
   "language": "python",
   "name": "python3"
  },
  "language_info": {
   "codemirror_mode": {
    "name": "ipython",
    "version": 3
   },
   "file_extension": ".py",
   "mimetype": "text/x-python",
   "name": "python",
   "nbconvert_exporter": "python",
   "pygments_lexer": "ipython3",
   "version": "3.7.4"
  }
 },
 "nbformat": 4,
 "nbformat_minor": 4
}
