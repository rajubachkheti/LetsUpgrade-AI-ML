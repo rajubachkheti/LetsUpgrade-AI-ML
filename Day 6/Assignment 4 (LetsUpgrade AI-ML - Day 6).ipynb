{
 "cells": [
  {
   "cell_type": "markdown",
   "metadata": {},
   "source": [
    "# 1. Write program to print the company name of a given email address."
   ]
  },
  {
   "cell_type": "code",
   "execution_count": 1,
   "metadata": {},
   "outputs": [
    {
     "name": "stdout",
     "output_type": "stream",
     "text": [
      "rajubachkheti@dell.com\n",
      "dell\n"
     ]
    }
   ],
   "source": [
    "print(input().split(\"@\")[1].split(\".\")[0])"
   ]
  },
  {
   "cell_type": "markdown",
   "metadata": {},
   "source": [
    "# 2. Write a program that accepts a comma-separated sequence of words as input and prints the words in a comma separated sequence after sorting them alphabetically.\n"
   ]
  },
  {
   "cell_type": "code",
   "execution_count": 7,
   "metadata": {},
   "outputs": [
    {
     "name": "stdout",
     "output_type": "stream",
     "text": [
      "Enter words to be sorted: ramesh rakesh jayesh vighnesh suresh mukesh rajesh\n",
      "['jayesh', 'mukesh', 'rajesh', 'rakesh', 'ramesh', 'suresh', 'vighnesh']\n"
     ]
    }
   ],
   "source": [
    "abc=list(input('Enter words to be sorted: ').split(' '))\n",
    "abc.sort()\n",
    "print(abc)"
   ]
  },
  {
   "cell_type": "markdown",
   "metadata": {},
   "source": [
    "# 3. Create your own Jupyter Notebook for Sets."
   ]
  },
  {
   "cell_type": "code",
   "execution_count": 2,
   "metadata": {},
   "outputs": [
    {
     "name": "stdout",
     "output_type": "stream",
     "text": [
      "{3.83, 'anaconda', 12, 'spyder', 'jupyter', 187}\n"
     ]
    }
   ],
   "source": [
    "s1={'jupyter', 'spyder', 'anaconda', 3.83, 12, 187}\n",
    "print (s1)"
   ]
  },
  {
   "cell_type": "code",
   "execution_count": 6,
   "metadata": {},
   "outputs": [
    {
     "name": "stdout",
     "output_type": "stream",
     "text": [
      "{3.83, 'anaconda', 12, 'spyder', 'jupyter', 'excel', 187}\n"
     ]
    }
   ],
   "source": [
    "s1.add('excel')\n",
    "print (s1)"
   ]
  },
  {
   "cell_type": "code",
   "execution_count": 7,
   "metadata": {},
   "outputs": [
    {
     "name": "stdout",
     "output_type": "stream",
     "text": [
      "{'anaconda', 12, 'spyder', 'jupyter', 'excel', 187}\n"
     ]
    }
   ],
   "source": [
    "s1.remove(3.83)\n",
    "print (s1)"
   ]
  },
  {
   "cell_type": "code",
   "execution_count": 8,
   "metadata": {},
   "outputs": [
    {
     "name": "stdout",
     "output_type": "stream",
     "text": [
      "{'anaconda', 12, 'google', 'microsoft', 'jupyter', 'spyder', 'excel', 'apple', 187}\n"
     ]
    }
   ],
   "source": [
    "s2={\"google\", \"microsoft\", \"apple\"}\n",
    "s3 = s1.union(s2)\n",
    "print (s3)"
   ]
  },
  {
   "cell_type": "code",
   "execution_count": 9,
   "metadata": {},
   "outputs": [
    {
     "name": "stdout",
     "output_type": "stream",
     "text": [
      "set()\n"
     ]
    }
   ],
   "source": [
    "s1.clear()\n",
    "print (s1)"
   ]
  },
  {
   "cell_type": "markdown",
   "metadata": {},
   "source": [
    "# 4. Program to find the missing number."
   ]
  },
  {
   "cell_type": "code",
   "execution_count": 1,
   "metadata": {},
   "outputs": [
    {
     "name": "stdout",
     "output_type": "stream",
     "text": [
      "Enter the numbers :52 51 56 58 54 57 59 60\n",
      "The missing number is : 53\n",
      "The missing number is : 55\n"
     ]
    }
   ],
   "source": [
    "number=list(map(int, input('Enter the numbers :').split()))\n",
    "for i in range (51, number[-1]+1):\n",
    "    if i not in number:\n",
    "        print ('The missing number is :', i)"
   ]
  },
  {
   "cell_type": "markdown",
   "metadata": {},
   "source": [
    "# 5. Write a program to print the list after removing all duplicate values with original order reserved."
   ]
  },
  {
   "cell_type": "code",
   "execution_count": 2,
   "metadata": {},
   "outputs": [
    {
     "name": "stdout",
     "output_type": "stream",
     "text": [
      "21 21 28 24 22 23 28 25 27 26 32 41 32 26 29 30\n",
      "21 22 23 24 25 26 27 28 29 30 32 41\n"
     ]
    }
   ],
   "source": [
    "l=list(map(int, input().strip().split()))\n",
    "x=sorted(set(l))\n",
    "x=list(map(str, x))\n",
    "print (' '.join(x))"
   ]
  }
 ],
 "metadata": {
  "kernelspec": {
   "display_name": "Python 3",
   "language": "python",
   "name": "python3"
  },
  "language_info": {
   "codemirror_mode": {
    "name": "ipython",
    "version": 3
   },
   "file_extension": ".py",
   "mimetype": "text/x-python",
   "name": "python",
   "nbconvert_exporter": "python",
   "pygments_lexer": "ipython3",
   "version": "3.7.6"
  }
 },
 "nbformat": 4,
 "nbformat_minor": 2
}
