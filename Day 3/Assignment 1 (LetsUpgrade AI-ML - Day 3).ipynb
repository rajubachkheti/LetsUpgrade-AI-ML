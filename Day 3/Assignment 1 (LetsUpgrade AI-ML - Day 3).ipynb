{
 "cells": [
  {
   "cell_type": "markdown",
   "metadata": {},
   "source": [
    "# 1. Program to subtract two complex numbers\n"
   ]
  },
  {
   "cell_type": "code",
   "execution_count": 1,
   "metadata": {},
   "outputs": [
    {
     "name": "stdout",
     "output_type": "stream",
     "text": [
      "The subtraction of two complex numbers will be = 0.11000000000000032j\n"
     ]
    }
   ],
   "source": [
    "a=2.14j\n",
    "b=2.03j\n",
    "c=a-b\n",
    "print(\"The subtraction of two complex numbers will be =\", c)"
   ]
  },
  {
   "cell_type": "markdown",
   "metadata": {},
   "source": [
    "# 2. Program to find the fourth root of a number"
   ]
  },
  {
   "cell_type": "code",
   "execution_count": 2,
   "metadata": {},
   "outputs": [
    {
     "data": {
      "text/plain": [
       "256"
      ]
     },
     "execution_count": 2,
     "metadata": {},
     "output_type": "execute_result"
    }
   ],
   "source": [
    "4**4"
   ]
  },
  {
   "cell_type": "markdown",
   "metadata": {},
   "source": [
    "# 3. Program to swap two numbers in Python with the help of a temporary variable."
   ]
  },
  {
   "cell_type": "code",
   "execution_count": 4,
   "metadata": {},
   "outputs": [
    {
     "name": "stdout",
     "output_type": "stream",
     "text": [
      "The value of x after swapping is = 10\n",
      "The value of y after swapping is = 5\n"
     ]
    }
   ],
   "source": [
    "x=5\n",
    "y=10\n",
    "temp=x\n",
    "x=y\n",
    "y=temp\n",
    "print (\"The value of x after swapping is =\", x)\n",
    "print (\"The value of y after swapping is =\", y)"
   ]
  },
  {
   "cell_type": "markdown",
   "metadata": {},
   "source": [
    "# 4. Program to swap two numbers in Python without using a temporary variable"
   ]
  },
  {
   "cell_type": "code",
   "execution_count": 5,
   "metadata": {},
   "outputs": [
    {
     "name": "stdout",
     "output_type": "stream",
     "text": [
      "The value of x after swapping is = 10\n",
      "The value of y after swapping is = 5\n"
     ]
    }
   ],
   "source": [
    "x=5\n",
    "y=10\n",
    "x=x+y\n",
    "y=x-y\n",
    "x=x-y\n",
    "print (\"The value of x after swapping is =\", x)\n",
    "print (\"The value of y after swapping is =\", y)"
   ]
  },
  {
   "cell_type": "markdown",
   "metadata": {},
   "source": [
    "# 5a. Program to convert fahrenheit to kelvin"
   ]
  },
  {
   "cell_type": "code",
   "execution_count": 5,
   "metadata": {},
   "outputs": [
    {
     "name": "stdout",
     "output_type": "stream",
     "text": [
      "Temperature in Kelvin ( K ) = 311.278\n"
     ]
    }
   ],
   "source": [
    "def Fahrenheit_to_Kelvin(F): \n",
    "    return 273.5 + ((F - 32.0) * (5.0/9.0))  \n",
    "F = 100\n",
    "print(\"Temperature in Kelvin ( K ) = {:.3f}\".format(Fahrenheit_to_Kelvin( F )))"
   ]
  },
  {
   "cell_type": "markdown",
   "metadata": {},
   "source": [
    "# 5b. Program to convert fahrenheit to celsius"
   ]
  },
  {
   "cell_type": "code",
   "execution_count": 7,
   "metadata": {},
   "outputs": [
    {
     "name": "stdout",
     "output_type": "stream",
     "text": [
      "Please enter temperature in fahrenheit:37\n",
      "Temperature in celsius:  2.7777777777777777\n"
     ]
    }
   ],
   "source": [
    "temperature = float(input(\"Please enter temperature in fahrenheit:\"))\n",
    "celsius = (temperature - 32) * 5 / 9\n",
    "print(\"Temperature in celsius: \" , celsius)"
   ]
  },
  {
   "cell_type": "markdown",
   "metadata": {},
   "source": [
    "# 6. Program to demonstrate all the available data types in Python"
   ]
  },
  {
   "cell_type": "code",
   "execution_count": 16,
   "metadata": {},
   "outputs": [
    {
     "name": "stdout",
     "output_type": "stream",
     "text": [
      "The datatype of A is = <class 'int'>\n",
      "The datatype of B is = <class 'float'>\n",
      "The datatype of C is = <class 'complex'>\n",
      "The datatype of D is = <class 'str'>\n",
      "The datatype of E is = <class 'tuple'>\n",
      "The datatype of F is = <class 'list'>\n",
      "The datatype of G is = <class 'dict'>\n",
      "The datatype of H is = <class 'set'>\n",
      "The datatype of I is = <class 'range'>\n",
      "The datatype of J is = <class 'frozenset'>\n",
      "The datatype of K is = <class 'bool'>\n",
      "The datatype of L is = <class 'bytes'>\n",
      "The datatype of M is = <class 'bytearray'>\n",
      "The datatype of N is = <class 'memoryview'>\n"
     ]
    }
   ],
   "source": [
    "A=100\n",
    "B=36.7892\n",
    "C=3.9j\n",
    "D=\"Pratik\"\n",
    "E=('P', 'r', 'a', 't', 'i', 'k')\n",
    "F=['P', 'r', 'a', 't', 'i', 'k']\n",
    "G={1:'P', 2:'r', 3:'a', 4:'t', 5:'i', 6:'k'}\n",
    "H={'P', 'r', 'a', 't', 'i', 'k'}\n",
    "I=range(6)\n",
    "J = frozenset({\"apple\", \"banana\", \"cherry\"})\n",
    "K = True\n",
    "L = b\"Pratik\"\n",
    "M = bytearray(5)\n",
    "N = memoryview(bytes(5))\n",
    "print (\"The datatype of A is =\", type(A))\n",
    "print (\"The datatype of B is =\", type(B))\n",
    "print (\"The datatype of C is =\", type(C))\n",
    "print (\"The datatype of D is =\", type(D))\n",
    "print (\"The datatype of E is =\", type(E))\n",
    "print (\"The datatype of F is =\", type(F))\n",
    "print (\"The datatype of G is =\", type(G))\n",
    "print (\"The datatype of H is =\", type(H))\n",
    "print (\"The datatype of I is =\", type(I))\n",
    "print (\"The datatype of J is =\", type(J))\n",
    "print (\"The datatype of K is =\", type(K))\n",
    "print (\"The datatype of L is =\", type(L))\n",
    "print (\"The datatype of M is =\", type(M))\n",
    "print (\"The datatype of N is =\", type(N))"
   ]
  },
  {
   "cell_type": "markdown",
   "metadata": {},
   "source": [
    "# 7. Steps to create Github profile and upload Githubs Assignment link"
   ]
  },
  {
   "cell_type": "code",
   "execution_count": null,
   "metadata": {},
   "outputs": [],
   "source": [
    "# 1. Create a Github public repository and name it \"LetsUpgrade AI/ML.\"\n",
    "# 2. In that folder \"Drag & Drop\" the files from the PC/Laptop to the \"Github profile.\"\n",
    "# 3. Fater uploading without making changes select \"Commit changes.\"\n",
    "# 4. Copy the URL of the Folder of that day and paste in the Assignment Submission Form (Google Form).\n",
    "# 5. Make sure we are filling correct details in the Assignment Submission Form."
   ]
  },
  {
   "cell_type": "code",
   "execution_count": null,
   "metadata": {},
   "outputs": [],
   "source": [
    "# Github assignment link : https://bit.ly/aimlassignment"
   ]
  }
 ],
 "metadata": {
  "kernelspec": {
   "display_name": "Python 3",
   "language": "python",
   "name": "python3"
  },
  "language_info": {
   "codemirror_mode": {
    "name": "ipython",
    "version": 3
   },
   "file_extension": ".py",
   "mimetype": "text/x-python",
   "name": "python",
   "nbconvert_exporter": "python",
   "pygments_lexer": "ipython3",
   "version": "3.7.4"
  }
 },
 "nbformat": 4,
 "nbformat_minor": 2
}
