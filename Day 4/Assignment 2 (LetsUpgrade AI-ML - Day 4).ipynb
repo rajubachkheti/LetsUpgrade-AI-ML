{
 "cells": [
  {
   "cell_type": "markdown",
   "metadata": {},
   "source": [
    "# 1. Implement a Python program to demonstrate Arithmetic operations on complex numbers.\n"
   ]
  },
  {
   "cell_type": "code",
   "execution_count": 20,
   "metadata": {},
   "outputs": [
    {
     "name": "stdout",
     "output_type": "stream",
     "text": [
      "The addition of 2 complex number is = (7-4j)\n",
      "The subtraction of 2 complex number is = (1+10j)\n",
      "The multiplication of 2 complex number is = (33-19j)\n",
      "The division of 2 complex number is = (-0.15517241379310348+0.6379310344827587j)\n",
      "The modulo of complex number is = 5.0\n",
      "The modulo of complex number is = 7.615773105863909\n"
     ]
    }
   ],
   "source": [
    "a=(4+3j)\n",
    "b=(3-7j)\n",
    "# c= a//b # Floor division operation is not defined for complex numbers in python\n",
    "print (\"The addition of 2 complex number is =\", (a+b))\n",
    "print (\"The subtraction of 2 complex number is =\", (a-b))\n",
    "print (\"The multiplication of 2 complex number is =\", (a*b))\n",
    "print (\"The division of 2 complex number is =\", (a/b))\n",
    "print (\"The modulo of complex number is =\", abs(a))\n",
    "print (\"The modulo of complex number is =\", abs(b))"
   ]
  },
  {
   "cell_type": "markdown",
   "metadata": {},
   "source": [
    "# 2. Implement a program on range() functions & it's parameters."
   ]
  },
  {
   "cell_type": "raw",
   "metadata": {},
   "source": [
    "# The \"range()\" function returns a sequence of numbers, starting from 0 (by default), and increments by 1 (by default), and stops before a specified number."
   ]
  },
  {
   "cell_type": "code",
   "execution_count": 17,
   "metadata": {},
   "outputs": [
    {
     "name": "stdout",
     "output_type": "stream",
     "text": [
      "0 1 2 3 4 "
     ]
    }
   ],
   "source": [
    "range(0,5)\n",
    "for i in range(5): # Type 1 : range(n)\n",
    "    print(i, end=\" \")"
   ]
  },
  {
   "cell_type": "code",
   "execution_count": 18,
   "metadata": {},
   "outputs": [
    {
     "name": "stdout",
     "output_type": "stream",
     "text": [
      "2 3 4 "
     ]
    }
   ],
   "source": [
    "for i in range(2,5): # Type 2 : range(Start index, End index)\n",
    "    print(i, end=\" \")"
   ]
  },
  {
   "cell_type": "code",
   "execution_count": 19,
   "metadata": {},
   "outputs": [
    {
     "name": "stdout",
     "output_type": "stream",
     "text": [
      "2 4 6 8 "
     ]
    }
   ],
   "source": [
    "for i in range(2,10,2): # Type 3 : range(Start index, End index, Stepsize)\n",
    "    print(i, end=\" \")"
   ]
  },
  {
   "cell_type": "markdown",
   "metadata": {},
   "source": [
    "# 3. Consider two numbers. Perform their subtraction and if the result of subtraction is greater than 25, print their multiplication result else print their division result."
   ]
  },
  {
   "cell_type": "code",
   "execution_count": 1,
   "metadata": {},
   "outputs": [
    {
     "name": "stdout",
     "output_type": "stream",
     "text": [
      "100\n",
      "72\n",
      "The multiplication value will be = 7200.0\n"
     ]
    }
   ],
   "source": [
    "a=float(input())\n",
    "b=float(input())\n",
    "c=a-b\n",
    "if c>25:\n",
    "    print(\"The multiplication value will be =\", a*b)\n",
    "else:\n",
    "    print(\"The division value will be =\", a/b)\n"
   ]
  },
  {
   "cell_type": "markdown",
   "metadata": {},
   "source": [
    "# 4. Consider a list of 10 elements of integer values. If the number in the list is divisible by 2, print the result as \"square of that number minus 2\"."
   ]
  },
  {
   "cell_type": "code",
   "execution_count": 37,
   "metadata": {},
   "outputs": [
    {
     "name": "stdout",
     "output_type": "stream",
     "text": [
      "not divisible by 2\n",
      "not divisible by 2\n",
      "not divisible by 2\n",
      "not divisible by 2\n",
      "not divisible by 2\n",
      "The result will be = 194\n",
      "The result will be = 34\n",
      "not divisible by 2\n",
      "not divisible by 2\n",
      "not divisible by 2\n"
     ]
    }
   ],
   "source": [
    "a=[3, 9, 7, 11, 15, 14, 6, 23, 67, 13]\n",
    "for i in a:\n",
    "    if i%2==0:\n",
    "        print(\"The result will be =\", (i**2)-2)\n",
    "    else:\n",
    "        print(\"not divisible by 2\")"
   ]
  },
  {
   "cell_type": "markdown",
   "metadata": {},
   "source": [
    "# 5. Consider a list of 10 elements. Print all the elements in the list which are greater than 7 when that number is divided 2."
   ]
  },
  {
   "cell_type": "code",
   "execution_count": 45,
   "metadata": {},
   "outputs": [
    {
     "name": "stdout",
     "output_type": "stream",
     "text": [
      "23\n",
      "67\n"
     ]
    }
   ],
   "source": [
    "a=[3, 9, 7, 11, 15, 14, 6, 23, 67, 13]\n",
    "for i in a:\n",
    "    if i//2>7:\n",
    "        print(i)\n",
    "        "
   ]
  }
 ],
 "metadata": {
  "kernelspec": {
   "display_name": "Python 3",
   "language": "python",
   "name": "python3"
  },
  "language_info": {
   "codemirror_mode": {
    "name": "ipython",
    "version": 3
   },
   "file_extension": ".py",
   "mimetype": "text/x-python",
   "name": "python",
   "nbconvert_exporter": "python",
   "pygments_lexer": "ipython3",
   "version": "3.7.4"
  }
 },
 "nbformat": 4,
 "nbformat_minor": 2
}
